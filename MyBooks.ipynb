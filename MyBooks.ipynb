{
    "cells": [
        {
            "metadata": {
                "collapsed": true
            },
            "cell_type": "markdown",
            "source": "## This project is about enriching bookshelf dataset\n\nGoodreads API\nhttps://www.goodreads.com/api\n\nOpenLibrary API\nhttps://openlibrary.org/dev/docs/api/books"
        },
        {
            "metadata": {},
            "cell_type": "markdown",
            "source": "Lets read the dataset"
        },
        {
            "metadata": {},
            "cell_type": "code",
            "source": "!wget -O MyBooks.csv https://www.dropbox.com/s/fk98zlrx4lypz04/MyBooks.csv?dl=0",
            "execution_count": 122,
            "outputs": [
                {
                    "output_type": "stream",
                    "text": "--2020-07-09 00:22:15--  https://www.dropbox.com/s/fk98zlrx4lypz04/MyBooks.csv?dl=0\nResolving www.dropbox.com (www.dropbox.com)... 162.125.8.1, 2620:100:601b:1::a27d:801\nConnecting to www.dropbox.com (www.dropbox.com)|162.125.8.1|:443... connected.\nHTTP request sent, awaiting response... 301 Moved Permanently\nLocation: /s/raw/fk98zlrx4lypz04/MyBooks.csv [following]\n--2020-07-09 00:22:15--  https://www.dropbox.com/s/raw/fk98zlrx4lypz04/MyBooks.csv\nReusing existing connection to www.dropbox.com:443.\nHTTP request sent, awaiting response... 302 Found\nLocation: https://uc135fc2c14cdf8692a403ce35bb.dl.dropboxusercontent.com/cd/0/inline/A7IQJiUgnd1kOMN3wQk5sl7qQc2zw5kM69Kdh3eBrvKlGtWR9RmyVYgRe0EOuL8JR3h6u8NLaZGuRdAXO54CmoeYUbsZrSqa_-zSjjKCw0HPJfqgsi6McGXHT1P31ti1VnM/file# [following]\n--2020-07-09 00:22:15--  https://uc135fc2c14cdf8692a403ce35bb.dl.dropboxusercontent.com/cd/0/inline/A7IQJiUgnd1kOMN3wQk5sl7qQc2zw5kM69Kdh3eBrvKlGtWR9RmyVYgRe0EOuL8JR3h6u8NLaZGuRdAXO54CmoeYUbsZrSqa_-zSjjKCw0HPJfqgsi6McGXHT1P31ti1VnM/file\nResolving uc135fc2c14cdf8692a403ce35bb.dl.dropboxusercontent.com (uc135fc2c14cdf8692a403ce35bb.dl.dropboxusercontent.com)... 162.125.8.15, 2620:100:601b:15::a27d:80f\nConnecting to uc135fc2c14cdf8692a403ce35bb.dl.dropboxusercontent.com (uc135fc2c14cdf8692a403ce35bb.dl.dropboxusercontent.com)|162.125.8.15|:443... connected.\nHTTP request sent, awaiting response... 200 OK\nLength: 9769 (9.5K) [text/plain]\nSaving to: \u2018MyBooks.csv\u2019\n\n100%[======================================>] 9,769       --.-K/s   in 0s      \n\n2020-07-09 00:22:16 (27.6 MB/s) - \u2018MyBooks.csv\u2019 saved [9769/9769]\n\n",
                    "name": "stdout"
                }
            ]
        },
        {
            "metadata": {},
            "cell_type": "code",
            "source": "# install some packages\n!pip install rauth\n\nprint(\"done..\")",
            "execution_count": 123,
            "outputs": [
                {
                    "output_type": "stream",
                    "text": "Requirement already satisfied: rauth in /opt/conda/envs/Python36/lib/python3.6/site-packages (0.7.3)\nRequirement already satisfied: requests>=1.2.3 in /opt/conda/envs/Python36/lib/python3.6/site-packages (from rauth) (2.21.0)\nRequirement already satisfied: certifi>=2017.4.17 in /opt/conda/envs/Python36/lib/python3.6/site-packages (from requests>=1.2.3->rauth) (2020.6.20)\nRequirement already satisfied: urllib3<1.25,>=1.21.1 in /opt/conda/envs/Python36/lib/python3.6/site-packages (from requests>=1.2.3->rauth) (1.24.1)\nRequirement already satisfied: chardet<3.1.0,>=3.0.2 in /opt/conda/envs/Python36/lib/python3.6/site-packages (from requests>=1.2.3->rauth) (3.0.4)\nRequirement already satisfied: idna<2.9,>=2.5 in /opt/conda/envs/Python36/lib/python3.6/site-packages (from requests>=1.2.3->rauth) (2.8)\ndone..\n",
                    "name": "stdout"
                }
            ]
        },
        {
            "metadata": {},
            "cell_type": "code",
            "source": "# import some libs\nimport xml.etree.ElementTree as ET\nimport numpy as np\nimport pandas as pd\nimport rauth\nimport requests\nimport json\n\nfrom rauth.service import OAuth1Service, OAuth1Session\n\nprint(\"done..\")",
            "execution_count": 207,
            "outputs": [
                {
                    "output_type": "stream",
                    "text": "done..\n",
                    "name": "stdout"
                }
            ]
        },
        {
            "metadata": {},
            "cell_type": "code",
            "source": "# inirial dataset\n\ndf = pd.read_csv(\"MyBooks.csv\", error_bad_lines=False)\ndf.head()",
            "execution_count": 262,
            "outputs": [
                {
                    "output_type": "execute_result",
                    "execution_count": 262,
                    "data": {
                        "text/plain": "      ISBN Code                Title  Author  Published Date  Memo   \\\n0  9789663437354                                                      \n1  9789664620397                                                      \n2  9786176951223                                                      \n3  9786177084180  \u0421\u043a\u0430\u0437\u043a\u0438 \u0434\u043b\u044f \u043c\u0430\u043b\u044b\u0448\u0435\u0439                     2016         \n4  9789664625453                                                      \n\n  Page count  Language  Country  Desciption  Image(URL)  \n0                                                   NaN  \n1                                                   NaN  \n2                                                   NaN  \n3          61       ru       US                     NaN  \n4                                                   NaN  ",
                        "text/html": "<div>\n<style scoped>\n    .dataframe tbody tr th:only-of-type {\n        vertical-align: middle;\n    }\n\n    .dataframe tbody tr th {\n        vertical-align: top;\n    }\n\n    .dataframe thead th {\n        text-align: right;\n    }\n</style>\n<table border=\"1\" class=\"dataframe\">\n  <thead>\n    <tr style=\"text-align: right;\">\n      <th></th>\n      <th>ISBN Code</th>\n      <th>Title</th>\n      <th>Author</th>\n      <th>Published Date</th>\n      <th>Memo</th>\n      <th>Page count</th>\n      <th>Language</th>\n      <th>Country</th>\n      <th>Desciption</th>\n      <th>Image(URL)</th>\n    </tr>\n  </thead>\n  <tbody>\n    <tr>\n      <th>0</th>\n      <td>9789663437354</td>\n      <td></td>\n      <td></td>\n      <td></td>\n      <td></td>\n      <td></td>\n      <td></td>\n      <td></td>\n      <td></td>\n      <td>NaN</td>\n    </tr>\n    <tr>\n      <th>1</th>\n      <td>9789664620397</td>\n      <td></td>\n      <td></td>\n      <td></td>\n      <td></td>\n      <td></td>\n      <td></td>\n      <td></td>\n      <td></td>\n      <td>NaN</td>\n    </tr>\n    <tr>\n      <th>2</th>\n      <td>9786176951223</td>\n      <td></td>\n      <td></td>\n      <td></td>\n      <td></td>\n      <td></td>\n      <td></td>\n      <td></td>\n      <td></td>\n      <td>NaN</td>\n    </tr>\n    <tr>\n      <th>3</th>\n      <td>9786177084180</td>\n      <td>\u0421\u043a\u0430\u0437\u043a\u0438 \u0434\u043b\u044f \u043c\u0430\u043b\u044b\u0448\u0435\u0439</td>\n      <td></td>\n      <td>2016</td>\n      <td></td>\n      <td>61</td>\n      <td>ru</td>\n      <td>US</td>\n      <td></td>\n      <td>NaN</td>\n    </tr>\n    <tr>\n      <th>4</th>\n      <td>9789664625453</td>\n      <td></td>\n      <td></td>\n      <td></td>\n      <td></td>\n      <td></td>\n      <td></td>\n      <td></td>\n      <td></td>\n      <td>NaN</td>\n    </tr>\n  </tbody>\n</table>\n</div>"
                    },
                    "metadata": {}
                }
            ]
        },
        {
            "metadata": {},
            "cell_type": "markdown",
            "source": "### Goodreads enrishment attempt"
        },
        {
            "metadata": {},
            "cell_type": "code",
            "source": "# lets define sone useful stuff\n# https://www.goodreads.com/api/keys\nCONSUMER_KEY = \"__GO_GET_YOUR_OWN_KEY__\"\nCONSUMER_SECRET = \"__GO_GET_YOUR_OWN_SECRET__\"\n\ngoodreads = OAuth1Service(\n    consumer_key = CONSUMER_KEY,\n    consumer_secret = CONSUMER_SECRET,\n    name = 'goodreads',\n    request_token_url = 'https://www.goodreads.com/oauth/request_token',\n    authorize_url = 'https://www.goodreads.com/oauth/authorize',\n    access_token_url = 'https://www.goodreads.com/oauth/access_token',\n    base_url = 'https://www.goodreads.com/'\n    )\n\n# head_auth=True is important here; this doesn't work with oauth2 for some reason\nrequest_token, request_token_secret = goodreads.get_request_token(header_auth=True)\nauthorize_url = goodreads.get_authorize_url(request_token)\nprint(\"Visit this URL in your browser: \", authorize_url)",
            "execution_count": 266,
            "outputs": [
                {
                    "output_type": "stream",
                    "text": "Visit this URL in your browser:  https://www.goodreads.com/oauth/authorize?oauth_token=sLXU7xyBb6YwwZNSmaQTjg\n",
                    "name": "stdout"
                }
            ]
        },
        {
            "metadata": {},
            "cell_type": "code",
            "source": "session = goodreads.get_auth_session(request_token, request_token_secret)\nrequest_url = \"https://www.goodreads.com/book/isbn/{}?key={}\"",
            "execution_count": null,
            "outputs": []
        },
        {
            "metadata": {},
            "cell_type": "code",
            "source": "count = 0\n\nEMPTY = \"    Empty\"\nNOT_EMPTY = \"Not Empty\"\nFOUND = \"Found\"\nNOT_FOUND = \"Not Found\"\n\nfor index, row in df.iterrows():\n    responce = session.get(request_url.format(row[\"ISBN Code \"], CONSUMER_KEY))\n    root = ET.fromstring(responce.content)\n\n    old_title = EMPTY if len(row[\"Title \"]) == 1 else NOT_EMPTY\n    \n    try:\n        new_title = str(root[1][1].text)\n        print(old_title, \" => \", FOUND)\n        if old_title != NOT_EMPTY:\n            count += 1 \n    except: \n        print(old_title, \" => \", NOT_FOUND)\n        pass\n\nprint(\"Ok, we found {} useful updates in goodreads database\".format(count))",
            "execution_count": 275,
            "outputs": [
                {
                    "output_type": "stream",
                    "text": "    Empty  =>  Not Found\n    Empty  =>  Not Found\n    Empty  =>  Not Found\nNot Empty  =>  Not Found\n    Empty  =>  Not Found\nNot Empty  =>  Found\n    Empty  =>  Not Found\n    Empty  =>  Not Found\n    Empty  =>  Not Found\n    Empty  =>  Not Found\n    Empty  =>  Not Found\n    Empty  =>  Not Found\n    Empty  =>  Not Found\n    Empty  =>  Not Found\n    Empty  =>  Not Found\n    Empty  =>  Not Found\n    Empty  =>  Not Found\n    Empty  =>  Not Found\n    Empty  =>  Found\n    Empty  =>  Found\n    Empty  =>  Not Found\n    Empty  =>  Not Found\n    Empty  =>  Not Found\nNot Empty  =>  Found\n    Empty  =>  Not Found\n    Empty  =>  Not Found\nNot Empty  =>  Found\nNot Empty  =>  Found\nNot Empty  =>  Found\n    Empty  =>  Not Found\n    Empty  =>  Found\nNot Empty  =>  Not Found\n    Empty  =>  Not Found\n    Empty  =>  Found\nNot Empty  =>  Found\nNot Empty  =>  Found\n    Empty  =>  Not Found\nOk, we found 4 useful updates in goodreads database\n",
                    "name": "stdout"
                }
            ]
        },
        {
            "metadata": {},
            "cell_type": "markdown",
            "source": "### OpenLibrary enrishment attempt"
        },
        {
            "metadata": {},
            "cell_type": "code",
            "source": "openlibraryapi = \"https://openlibrary.org/api/books?bibkeys=ISBN:{}\"\n\nfor index, row in df.iterrows():\n    isbn = row[\"ISBN Code \"]\n    resp = requests.get(openlibraryapi.format(isbn))\n    payload = resp.text.replace(\"var _OLBookInfo = {\", \"{\").replace(\"};\", \"}\")\n    if payload != \"{}\":\n        parsed_payload = json.loads(payload)\n        url = parsed_payload[\"ISBN:{}\".format(row[\"ISBN Code \"])][\"preview_url\"]\n        print(\"we found potential update for ISBN {}, here are more details: {}\".format(isbn, url))\n    else:\n        print(\"no updates found for ISBN {}\".format(isbn))\n        ",
            "execution_count": 260,
            "outputs": [
                {
                    "output_type": "stream",
                    "text": "no updates found for ISBN 9789663437354\nno updates found for ISBN 9789664620397\nno updates found for ISBN 9786176951223\nno updates found for ISBN 9786177084180\nno updates found for ISBN 9789664625453\nno updates found for ISBN 9789667047856\nno updates found for ISBN 966716134X \nno updates found for ISBN 9789661200394\nno updates found for ISBN 9789663190792\nno updates found for ISBN 9663190795\nno updates found for ISBN 9789661800907\nno updates found for ISBN 9786176951889\nno updates found for ISBN 9789662522082\nno updates found for ISBN 9789661694629\nno updates found for ISBN 9786176903109\nwe found potential update for ISBN 9789667047818, here are more details: https://openlibrary.org/books/OL27644524M/Povitrjani_ribki\nno updates found for ISBN 9789664623473\nno updates found for ISBN 9786177084692\nno updates found for ISBN 9789669761057\nno updates found for ISBN 9786175850275\nno updates found for ISBN 9789662522075\nno updates found for ISBN 9789669172075\nno updates found for ISBN 9789664241745\nno updates found for ISBN 9786175850541\nno updates found for ISBN 9789664653494\nno updates found for ISBN 9789668476044\nno updates found for ISBN 9789667047917\nno updates found for ISBN 9789667047641\nno updates found for ISBN 9789662909302\nno updates found for ISBN 9786177083046\nno updates found for ISBN 9786176790471\nno updates found for ISBN 9789664294307\nno updates found for ISBN 9786175381151\nno updates found for ISBN 9789662909456\nno updates found for ISBN 9789667047863\nno updates found for ISBN 9789667047474\nno updates found for ISBN 9789667785123\n",
                    "name": "stdout"
                }
            ]
        },
        {
            "metadata": {},
            "cell_type": "code",
            "source": "# debug for GoodReads API\nroot = ET.fromstring(responce.content)\ntag_indexes = [1,7,8,9,10,13,15,18,19,20,21,22,23,24]\nfor index in tag_indexes:\n    print(root[1][index].tag + \": \" + str(root[1][index].text))",
            "execution_count": null,
            "outputs": []
        }
    ],
    "metadata": {
        "kernelspec": {
            "name": "python3",
            "display_name": "Python 3.6",
            "language": "python"
        },
        "language_info": {
            "name": "python",
            "version": "3.6.9",
            "mimetype": "text/x-python",
            "codemirror_mode": {
                "name": "ipython",
                "version": 3
            },
            "pygments_lexer": "ipython3",
            "nbconvert_exporter": "python",
            "file_extension": ".py"
        }
    },
    "nbformat": 4,
    "nbformat_minor": 1
}